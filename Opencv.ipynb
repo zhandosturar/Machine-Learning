{
 "cells": [
  {
   "cell_type": "code",
   "execution_count": null,
   "metadata": {},
   "outputs": [],
   "source": [
    "import cv2"
   ]
  },
  {
   "cell_type": "code",
   "execution_count": 2,
   "metadata": {},
   "outputs": [],
   "source": [
    "image = cv2.imread('/Users/aiymsergazina/Desktop/MAchine Learning/Opencv/jpg.jpg')"
   ]
  },
  {
   "cell_type": "code",
   "execution_count": 3,
   "metadata": {},
   "outputs": [
    {
     "name": "stdout",
     "output_type": "stream",
     "text": [
      "(354, 630, 3)\n"
     ]
    }
   ],
   "source": [
    "print(image.shape) ### 354 rows , 630 columns, 3 channels of color"
   ]
  },
  {
   "cell_type": "code",
   "execution_count": null,
   "metadata": {},
   "outputs": [],
   "source": [
    "cv2.imshow(\"Display window\",image)\n",
    "cv2.waitKey(0)"
   ]
  },
  {
   "cell_type": "code",
   "execution_count": null,
   "metadata": {},
   "outputs": [],
   "source": [
    "#### Decrease the size\n",
    "final_wide = 100\n",
    "r = float(final_wide) / image.shape[1]\n",
    "dim = (final_wide, int(image.shape[0] * r))\n",
    "resized = cv2.resize(image, dim, interpolation = cv2.INTER_AREA)\n",
    "cv2.imshow(\"Resize image\", resized)\n",
    "cv2.waitKey(0)"
   ]
  },
  {
   "cell_type": "code",
   "execution_count": null,
   "metadata": {},
   "outputs": [],
   "source": [
    "#### Cut out the image using slices using numpy\n",
    "cropped = image[30:130, 150:300]\n",
    "cv2.imshow(\"Cropped image\", cropped)\n",
    "cv2.waitKey(0)"
   ]
  },
  {
   "cell_type": "code",
   "execution_count": null,
   "metadata": {},
   "outputs": [],
   "source": [
    "(h, w) = image.shape[:2]\n",
    "center = (w / 2, h / 2)\n",
    "#### We need to keep the aspect ratio\n",
    "M = cv2.getRotationMatrix2D(center, 180, 1.0)\n",
    "rotated = cv2.warpAffine(image, M, (w, h))\n",
    "cv2.imshow(\"Rotated image\", rotated)\n",
    "cv2.waitKey(0)"
   ]
  },
  {
   "cell_type": "code",
   "execution_count": null,
   "metadata": {},
   "outputs": [],
   "source": [
    "flip_image = cv2.flip(image,1)\n",
    "cv2.imshow(\"Flip image\", flip_image)\n",
    "cv2.waitKey(0)"
   ]
  },
  {
   "cell_type": "code",
   "execution_count": null,
   "metadata": {},
   "outputs": [],
   "source": [
    "cv2.imwrite(\"flip.png\", flip_image)"
   ]
  },
  {
   "cell_type": "code",
   "execution_count": null,
   "metadata": {},
   "outputs": [],
   "source": [
    "#### BGR Channel Decomposition\n",
    "cv2.imshow('Color all',image)\n",
    "cv2.imshow('Color blue',image[:,:,0])\n",
    "cv2.imshow('Color green',image[:,:,1])\n",
    "cv2.imshow('Color red',image[:,:,2])\n",
    "cv2.waitKey(0)"
   ]
  },
  {
   "cell_type": "code",
   "execution_count": null,
   "metadata": {},
   "outputs": [],
   "source": [
    "#### Comparison of BGR and RGB\n",
    "image_rgb = cv2.cvtColor(image, cv2.COLOR_BGR2RGB)\n",
    "cv2.imshow('Color RGB', image_rgb)\n",
    "cv2.imshow('Color BGR', image)\n",
    "cv2.waitKey(0)"
   ]
  }
 ],
 "metadata": {
  "kernelspec": {
   "display_name": "Python 3",
   "language": "python",
   "name": "python3"
  },
  "language_info": {
   "codemirror_mode": {
    "name": "ipython",
    "version": 3
   },
   "file_extension": ".py",
   "mimetype": "text/x-python",
   "name": "python",
   "nbconvert_exporter": "python",
   "pygments_lexer": "ipython3",
   "version": "3.7.2"
  }
 },
 "nbformat": 4,
 "nbformat_minor": 2
}
