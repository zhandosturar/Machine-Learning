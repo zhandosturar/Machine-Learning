{
 "cells": [
  {
   "cell_type": "code",
   "execution_count": 1,
   "metadata": {},
   "outputs": [],
   "source": [
    "import pandas as pd\n",
    "import numpy as np\n",
    "from keras.models import Sequential\n",
    "from keras.layers.core import Flatten, Dense, Dropout\n",
    "from keras.layers.convolutional import Convolution2D, MaxPooling2D, ZeroPadding2D\n",
    "from keras.optimizers import SGD\n",
    "import cv2\n",
    "import os\n",
    "from keras.models import model_from_json\n",
    "from keras.preprocessing import image"
   ]
  },
  {
   "cell_type": "code",
   "execution_count": 2,
   "metadata": {},
   "outputs": [],
   "source": [
    "from tensorflow.keras.layers import Dense, Conv2D, Flatten, Dropout, MaxPooling2D, Activation\n",
    "from tensorflow.keras.preprocessing import image\n",
    "import matplotlib.pyplot as plt\n",
    "from tensorflow.keras.losses import categorical_crossentropy\n",
    "from tensorflow.keras import layers\n",
    "from tensorflow import keras"
   ]
  },
  {
   "cell_type": "code",
   "execution_count": 3,
   "metadata": {},
   "outputs": [],
   "source": [
    "X_train, train_y, X_test, test_y = [], [], [], []"
   ]
  },
  {
   "cell_type": "code",
   "execution_count": 4,
   "metadata": {},
   "outputs": [],
   "source": [
    "df = pd.read_csv(r'C:\\Users\\User\\Desktop\\data\\fer2013.csv')"
   ]
  },
  {
   "cell_type": "code",
   "execution_count": 5,
   "metadata": {},
   "outputs": [
    {
     "data": {
      "text/html": [
       "<div>\n",
       "<style scoped>\n",
       "    .dataframe tbody tr th:only-of-type {\n",
       "        vertical-align: middle;\n",
       "    }\n",
       "\n",
       "    .dataframe tbody tr th {\n",
       "        vertical-align: top;\n",
       "    }\n",
       "\n",
       "    .dataframe thead th {\n",
       "        text-align: right;\n",
       "    }\n",
       "</style>\n",
       "<table border=\"1\" class=\"dataframe\">\n",
       "  <thead>\n",
       "    <tr style=\"text-align: right;\">\n",
       "      <th></th>\n",
       "      <th>emotion</th>\n",
       "      <th>pixels</th>\n",
       "      <th>Usage</th>\n",
       "    </tr>\n",
       "  </thead>\n",
       "  <tbody>\n",
       "    <tr>\n",
       "      <td>0</td>\n",
       "      <td>0</td>\n",
       "      <td>70 80 82 72 58 58 60 63 54 58 60 48 89 115 121...</td>\n",
       "      <td>Training</td>\n",
       "    </tr>\n",
       "    <tr>\n",
       "      <td>1</td>\n",
       "      <td>0</td>\n",
       "      <td>151 150 147 155 148 133 111 140 170 174 182 15...</td>\n",
       "      <td>Training</td>\n",
       "    </tr>\n",
       "    <tr>\n",
       "      <td>2</td>\n",
       "      <td>2</td>\n",
       "      <td>231 212 156 164 174 138 161 173 182 200 106 38...</td>\n",
       "      <td>Training</td>\n",
       "    </tr>\n",
       "    <tr>\n",
       "      <td>3</td>\n",
       "      <td>4</td>\n",
       "      <td>24 32 36 30 32 23 19 20 30 41 21 22 32 34 21 1...</td>\n",
       "      <td>Training</td>\n",
       "    </tr>\n",
       "    <tr>\n",
       "      <td>4</td>\n",
       "      <td>6</td>\n",
       "      <td>4 0 0 0 0 0 0 0 0 0 0 0 3 15 23 28 48 50 58 84...</td>\n",
       "      <td>Training</td>\n",
       "    </tr>\n",
       "  </tbody>\n",
       "</table>\n",
       "</div>"
      ],
      "text/plain": [
       "   emotion                                             pixels     Usage\n",
       "0        0  70 80 82 72 58 58 60 63 54 58 60 48 89 115 121...  Training\n",
       "1        0  151 150 147 155 148 133 111 140 170 174 182 15...  Training\n",
       "2        2  231 212 156 164 174 138 161 173 182 200 106 38...  Training\n",
       "3        4  24 32 36 30 32 23 19 20 30 41 21 22 32 34 21 1...  Training\n",
       "4        6  4 0 0 0 0 0 0 0 0 0 0 0 3 15 23 28 48 50 58 84...  Training"
      ]
     },
     "execution_count": 5,
     "metadata": {},
     "output_type": "execute_result"
    }
   ],
   "source": [
    "df.head()"
   ]
  },
  {
   "cell_type": "code",
   "execution_count": 6,
   "metadata": {},
   "outputs": [],
   "source": [
    "for index, row in df.iterrows():\n",
    "    val=row['pixels'].split(\" \")\n",
    "    try:\n",
    "        if 'Training' in row['Usage']:\n",
    "            X_train.append(np.array(val, 'float32'))\n",
    "            train_y.append(row['emotion'])\n",
    "        elif 'PublicTest' in row['Usage']:\n",
    "            X_test.append(np.array(val, 'float32'))\n",
    "            test_y.append(row['emotion'])\n",
    "    except:\n",
    "        print(f\"Error occured at index :{index} and row:{row}\")"
   ]
  },
  {
   "cell_type": "code",
   "execution_count": 7,
   "metadata": {},
   "outputs": [],
   "source": [
    "num_features = 64\n",
    "num_labels = 7\n",
    "batch_size = 64\n",
    "epochs = 50\n",
    "width, height = 48, 48"
   ]
  },
  {
   "cell_type": "code",
   "execution_count": 8,
   "metadata": {},
   "outputs": [],
   "source": [
    "X_train = np.array(X_train, 'float32')\n",
    "train_y = np.array(train_y, 'float32')\n",
    "X_test = np.array(X_test, 'float32')\n",
    "test_y = np.array(test_y, 'float32')"
   ]
  },
  {
   "cell_type": "code",
   "execution_count": 9,
   "metadata": {},
   "outputs": [],
   "source": [
    "from keras.utils.np_utils import to_categorical"
   ]
  },
  {
   "cell_type": "code",
   "execution_count": 10,
   "metadata": {},
   "outputs": [],
   "source": [
    "train_y=to_categorical(train_y, num_classes=num_labels)\n",
    "test_y=to_categorical(test_y, num_classes=num_labels)"
   ]
  },
  {
   "cell_type": "code",
   "execution_count": 11,
   "metadata": {},
   "outputs": [],
   "source": [
    "X_train -= np.mean(X_train, axis=0)\n",
    "X_train /= np.std(X_train, axis=0)\n",
    "\n",
    "X_test -= np.mean(X_test, axis=0)\n",
    "X_test /= np.std(X_test, axis=0)\n",
    "\n",
    "                 \n",
    "X_train = X_train.reshape(X_train.shape[0],48, 48, 1)\n",
    "                 \n",
    "X_test = X_test.reshape(X_test.shape[0], 48, 48, 1)"
   ]
  },
  {
   "cell_type": "code",
   "execution_count": 12,
   "metadata": {},
   "outputs": [
    {
     "name": "stdout",
     "output_type": "stream",
     "text": [
      "Model: \"sequential\"\n",
      "_________________________________________________________________\n",
      "Layer (type)                 Output Shape              Param #   \n",
      "=================================================================\n",
      "conv2d (Conv2D)              (None, 46, 46, 64)        640       \n",
      "_________________________________________________________________\n",
      "conv2d_1 (Conv2D)            (None, 44, 44, 64)        36928     \n",
      "_________________________________________________________________\n",
      "max_pooling2d (MaxPooling2D) (None, 22, 22, 64)        0         \n",
      "_________________________________________________________________\n",
      "dropout (Dropout)            (None, 22, 22, 64)        0         \n",
      "_________________________________________________________________\n",
      "conv2d_2 (Conv2D)            (None, 20, 20, 64)        36928     \n",
      "_________________________________________________________________\n",
      "conv2d_3 (Conv2D)            (None, 18, 18, 64)        36928     \n",
      "_________________________________________________________________\n",
      "max_pooling2d_1 (MaxPooling2 (None, 9, 9, 64)          0         \n",
      "_________________________________________________________________\n",
      "dropout_1 (Dropout)          (None, 9, 9, 64)          0         \n",
      "_________________________________________________________________\n",
      "conv2d_4 (Conv2D)            (None, 7, 7, 128)         73856     \n",
      "_________________________________________________________________\n",
      "conv2d_5 (Conv2D)            (None, 5, 5, 128)         147584    \n",
      "_________________________________________________________________\n",
      "max_pooling2d_2 (MaxPooling2 (None, 2, 2, 128)         0         \n",
      "_________________________________________________________________\n",
      "flatten (Flatten)            (None, 512)               0         \n",
      "_________________________________________________________________\n",
      "dense (Dense)                (None, 1024)              525312    \n",
      "_________________________________________________________________\n",
      "dropout_2 (Dropout)          (None, 1024)              0         \n",
      "_________________________________________________________________\n",
      "dense_1 (Dense)              (None, 1024)              1049600   \n",
      "_________________________________________________________________\n",
      "dropout_3 (Dropout)          (None, 1024)              0         \n",
      "_________________________________________________________________\n",
      "dense_2 (Dense)              (None, 7)                 7175      \n",
      "=================================================================\n",
      "Total params: 1,914,951\n",
      "Trainable params: 1,914,951\n",
      "Non-trainable params: 0\n",
      "_________________________________________________________________\n"
     ]
    }
   ],
   "source": [
    "model = Sequential()\n",
    "\n",
    "model.add(Conv2D(64, kernel_size=(3, 3), activation='relu', input_shape=(X_train.shape[1:])))\n",
    "model.add(Conv2D(64, kernel_size=(3, 3), activation='relu'))\n",
    "model.add(MaxPooling2D(pool_size=(2, 2), strides=(2, 2)))\n",
    "model.add(Dropout(0.5))\n",
    "\n",
    "model.add(Conv2D(64, kernel_size=(3, 3), activation='relu'))\n",
    "model.add(Conv2D(64, kernel_size=(3, 3), activation='relu'))\n",
    "model.add(MaxPooling2D(pool_size=(2, 2), strides=(2, 2)))\n",
    "model.add(Dropout(0.5))\n",
    "\n",
    "model.add(Conv2D(128, (3, 3), activation='relu'))\n",
    "model.add(Conv2D(128, (3, 3), activation='relu'))\n",
    "model.add(MaxPooling2D(pool_size=(2, 2), strides=(2, 2)))\n",
    "\n",
    "model.add(Flatten())\n",
    "\n",
    "model.add(Dense(1024, activation='relu'))\n",
    "model.add(Dropout(0.2))\n",
    "model.add(Dense(1024, activation='relu'))\n",
    "model.add(Dropout(0.2))\n",
    "\n",
    "model.add(Dense(num_labels, activation='softmax'))\n",
    "\n",
    "model.summary()"
   ]
  },
  {
   "cell_type": "code",
   "execution_count": 13,
   "metadata": {},
   "outputs": [],
   "source": [
    "model.compile(loss=categorical_crossentropy,\n",
    "              optimizer= 'sgd',\n",
    "              metrics=['accuracy'])"
   ]
  },
  {
   "cell_type": "code",
   "execution_count": 14,
   "metadata": {},
   "outputs": [
    {
     "name": "stdout",
     "output_type": "stream",
     "text": [
      "Epoch 1/50\n",
      "449/449 [==============================] - 179s 398ms/step - loss: 1.8521 - accuracy: 0.2351 - val_loss: 1.8176 - val_accuracy: 0.2533\n",
      "Epoch 2/50\n",
      "449/449 [==============================] - 163s 364ms/step - loss: 1.7976 - accuracy: 0.2527 - val_loss: 1.7958 - val_accuracy: 0.2547\n",
      "Epoch 3/50\n",
      "449/449 [==============================] - 164s 365ms/step - loss: 1.7863 - accuracy: 0.2565 - val_loss: 1.7858 - val_accuracy: 0.2566\n",
      "Epoch 4/50\n",
      "449/449 [==============================] - 164s 365ms/step - loss: 1.7727 - accuracy: 0.2586 - val_loss: 1.7776 - val_accuracy: 0.2588\n",
      "Epoch 5/50\n",
      "449/449 [==============================] - 164s 364ms/step - loss: 1.7620 - accuracy: 0.2696 - val_loss: 1.7485 - val_accuracy: 0.2842\n",
      "Epoch 6/50\n",
      "449/449 [==============================] - 166s 369ms/step - loss: 1.7359 - accuracy: 0.2974 - val_loss: 1.7029 - val_accuracy: 0.3059\n",
      "Epoch 7/50\n",
      "449/449 [==============================] - 162s 360ms/step - loss: 1.6959 - accuracy: 0.3204 - val_loss: 1.6679 - val_accuracy: 0.3246\n",
      "Epoch 8/50\n",
      "449/449 [==============================] - 161s 359ms/step - loss: 1.6712 - accuracy: 0.3405 - val_loss: 1.6492 - val_accuracy: 0.3410\n",
      "Epoch 9/50\n",
      "449/449 [==============================] - 162s 361ms/step - loss: 1.6545 - accuracy: 0.3429 - val_loss: 1.6334 - val_accuracy: 0.3516\n",
      "Epoch 10/50\n",
      "449/449 [==============================] - 173s 385ms/step - loss: 1.6373 - accuracy: 0.3567 - val_loss: 1.6085 - val_accuracy: 0.3706\n",
      "Epoch 11/50\n",
      "449/449 [==============================] - 166s 369ms/step - loss: 1.6214 - accuracy: 0.3646 - val_loss: 1.5966 - val_accuracy: 0.3667\n",
      "Epoch 12/50\n",
      "449/449 [==============================] - 163s 362ms/step - loss: 1.6037 - accuracy: 0.3730 - val_loss: 1.5829 - val_accuracy: 0.3756\n",
      "Epoch 13/50\n",
      "449/449 [==============================] - 163s 363ms/step - loss: 1.5804 - accuracy: 0.3807 - val_loss: 1.5789 - val_accuracy: 0.3784\n",
      "Epoch 14/50\n",
      "449/449 [==============================] - 162s 361ms/step - loss: 1.5621 - accuracy: 0.3898 - val_loss: 1.5366 - val_accuracy: 0.3962\n",
      "Epoch 15/50\n",
      "449/449 [==============================] - 162s 361ms/step - loss: 1.5431 - accuracy: 0.3999 - val_loss: 1.5020 - val_accuracy: 0.4205\n",
      "Epoch 16/50\n",
      "449/449 [==============================] - 163s 364ms/step - loss: 1.5331 - accuracy: 0.4020 - val_loss: 1.5038 - val_accuracy: 0.4121\n",
      "Epoch 17/50\n",
      "449/449 [==============================] - 163s 362ms/step - loss: 1.5248 - accuracy: 0.4077 - val_loss: 1.4678 - val_accuracy: 0.4344\n",
      "Epoch 18/50\n",
      "449/449 [==============================] - 164s 365ms/step - loss: 1.5030 - accuracy: 0.4158 - val_loss: 1.4581 - val_accuracy: 0.4397\n",
      "Epoch 19/50\n",
      "449/449 [==============================] - 164s 365ms/step - loss: 1.4876 - accuracy: 0.4232 - val_loss: 1.4730 - val_accuracy: 0.4188\n",
      "Epoch 20/50\n",
      "449/449 [==============================] - 176s 393ms/step - loss: 1.4639 - accuracy: 0.4374 - val_loss: 1.4384 - val_accuracy: 0.4458\n",
      "Epoch 21/50\n",
      "449/449 [==============================] - 186s 415ms/step - loss: 1.4563 - accuracy: 0.4409 - val_loss: 1.4055 - val_accuracy: 0.4634\n",
      "Epoch 22/50\n",
      "449/449 [==============================] - 190s 424ms/step - loss: 1.4334 - accuracy: 0.4495 - val_loss: 1.3873 - val_accuracy: 0.4706\n",
      "Epoch 23/50\n",
      "449/449 [==============================] - 189s 422ms/step - loss: 1.4278 - accuracy: 0.4504 - val_loss: 1.3778 - val_accuracy: 0.4792\n",
      "Epoch 24/50\n",
      "449/449 [==============================] - 189s 421ms/step - loss: 1.4077 - accuracy: 0.4575 - val_loss: 1.3803 - val_accuracy: 0.4550\n",
      "Epoch 25/50\n",
      "449/449 [==============================] - 189s 421ms/step - loss: 1.3842 - accuracy: 0.4685 - val_loss: 1.3607 - val_accuracy: 0.4809\n",
      "Epoch 26/50\n",
      "449/449 [==============================] - 7889s 18s/step - loss: 1.3741 - accuracy: 0.4662 - val_loss: 1.3682 - val_accuracy: 0.4787\n",
      "Epoch 27/50\n",
      "449/449 [==============================] - 166s 370ms/step - loss: 1.3657 - accuracy: 0.4753 - val_loss: 1.3417 - val_accuracy: 0.4879\n",
      "Epoch 28/50\n",
      "449/449 [==============================] - 171s 380ms/step - loss: 1.3435 - accuracy: 0.4821 - val_loss: 1.3253 - val_accuracy: 0.4974\n",
      "Epoch 29/50\n",
      "449/449 [==============================] - 165s 367ms/step - loss: 1.3353 - accuracy: 0.4878 - val_loss: 1.3064 - val_accuracy: 0.4987\n",
      "Epoch 30/50\n",
      "449/449 [==============================] - 163s 362ms/step - loss: 1.3223 - accuracy: 0.4920 - val_loss: 1.3005 - val_accuracy: 0.5043\n",
      "Epoch 31/50\n",
      "449/449 [==============================] - 164s 366ms/step - loss: 1.3084 - accuracy: 0.5010 - val_loss: 1.2733 - val_accuracy: 0.5121\n",
      "Epoch 32/50\n",
      "449/449 [==============================] - 163s 364ms/step - loss: 1.3009 - accuracy: 0.5012 - val_loss: 1.2677 - val_accuracy: 0.5110\n",
      "Epoch 33/50\n",
      "449/449 [==============================] - 163s 363ms/step - loss: 1.2910 - accuracy: 0.5087 - val_loss: 1.2684 - val_accuracy: 0.5188\n",
      "Epoch 34/50\n",
      "449/449 [==============================] - 163s 362ms/step - loss: 1.2862 - accuracy: 0.5069 - val_loss: 1.2693 - val_accuracy: 0.5107\n",
      "Epoch 35/50\n",
      "449/449 [==============================] - 163s 362ms/step - loss: 1.2746 - accuracy: 0.5171 - val_loss: 1.2629 - val_accuracy: 0.5205\n",
      "Epoch 36/50\n",
      "449/449 [==============================] - 163s 362ms/step - loss: 1.2493 - accuracy: 0.5226 - val_loss: 1.2385 - val_accuracy: 0.5266\n",
      "Epoch 37/50\n",
      "449/449 [==============================] - 163s 362ms/step - loss: 1.2542 - accuracy: 0.5195 - val_loss: 1.2355 - val_accuracy: 0.5294\n",
      "Epoch 38/50\n",
      "449/449 [==============================] - 163s 362ms/step - loss: 1.2376 - accuracy: 0.5286 - val_loss: 1.2261 - val_accuracy: 0.5347\n",
      "Epoch 39/50\n",
      "449/449 [==============================] - 164s 365ms/step - loss: 1.2367 - accuracy: 0.5221 - val_loss: 1.2509 - val_accuracy: 0.5224\n",
      "Epoch 40/50\n",
      "449/449 [==============================] - 163s 362ms/step - loss: 1.2239 - accuracy: 0.5326 - val_loss: 1.2201 - val_accuracy: 0.5361\n",
      "Epoch 41/50\n",
      "449/449 [==============================] - 163s 363ms/step - loss: 1.2109 - accuracy: 0.5353 - val_loss: 1.2133 - val_accuracy: 0.5405\n",
      "Epoch 42/50\n",
      "449/449 [==============================] - 163s 363ms/step - loss: 1.1967 - accuracy: 0.5431 - val_loss: 1.2144 - val_accuracy: 0.5391\n",
      "Epoch 43/50\n",
      "449/449 [==============================] - 163s 364ms/step - loss: 1.1878 - accuracy: 0.5525 - val_loss: 1.2235 - val_accuracy: 0.5305\n",
      "Epoch 44/50\n",
      "449/449 [==============================] - 164s 364ms/step - loss: 1.1899 - accuracy: 0.5413 - val_loss: 1.1926 - val_accuracy: 0.5450\n",
      "Epoch 45/50\n",
      "449/449 [==============================] - 170s 378ms/step - loss: 1.1739 - accuracy: 0.5526 - val_loss: 1.1979 - val_accuracy: 0.5414\n",
      "Epoch 46/50\n",
      "449/449 [==============================] - 163s 363ms/step - loss: 1.1683 - accuracy: 0.5527 - val_loss: 1.2365 - val_accuracy: 0.5272\n",
      "Epoch 47/50\n",
      "449/449 [==============================] - 163s 362ms/step - loss: 1.1544 - accuracy: 0.5619 - val_loss: 1.2017 - val_accuracy: 0.5450\n",
      "Epoch 48/50\n",
      "449/449 [==============================] - 163s 363ms/step - loss: 1.1545 - accuracy: 0.5606 - val_loss: 1.2028 - val_accuracy: 0.5414\n",
      "Epoch 49/50\n",
      "449/449 [==============================] - 163s 363ms/step - loss: 1.1469 - accuracy: 0.5669 - val_loss: 1.1740 - val_accuracy: 0.5500\n",
      "Epoch 50/50\n",
      "449/449 [==============================] - 163s 364ms/step - loss: 1.1351 - accuracy: 0.5704 - val_loss: 1.2085 - val_accuracy: 0.5442\n"
     ]
    },
    {
     "data": {
      "text/plain": [
       "<tensorflow.python.keras.callbacks.History at 0x25329738bc8>"
      ]
     },
     "execution_count": 14,
     "metadata": {},
     "output_type": "execute_result"
    }
   ],
   "source": [
    "model.fit(X_train, train_y,\n",
    "          batch_size=batch_size,\n",
    "          epochs=epochs,\n",
    "          verbose=1,\n",
    "          validation_data=(X_test, test_y),\n",
    "          shuffle=True)"
   ]
  },
  {
   "cell_type": "code",
   "execution_count": 15,
   "metadata": {},
   "outputs": [],
   "source": [
    "fer_json = model.to_json()\n",
    "with open(\"fer.json\", \"w\") as json_file:\n",
    "    json_file.write(fer_json)\n",
    "model.save_weights(\"fer.h5\")"
   ]
  },
  {
   "cell_type": "code",
   "execution_count": 1,
   "metadata": {},
   "outputs": [
    {
     "ename": "NameError",
     "evalue": "name 'cv2' is not defined",
     "output_type": "error",
     "traceback": [
      "\u001b[1;31m---------------------------------------------------------------------------\u001b[0m",
      "\u001b[1;31mNameError\u001b[0m                                 Traceback (most recent call last)",
      "\u001b[1;32m<ipython-input-1-ed2d9f0d2de5>\u001b[0m in \u001b[0;36m<module>\u001b[1;34m\u001b[0m\n\u001b[1;32m----> 1\u001b[1;33m \u001b[0mtest_image\u001b[0m \u001b[1;33m=\u001b[0m \u001b[0mcv2\u001b[0m\u001b[1;33m.\u001b[0m\u001b[0mimread\u001b[0m\u001b[1;33m(\u001b[0m\u001b[1;34mr'C:\\Users\\User\\Desktop\\data\\hap.jpg'\u001b[0m\u001b[1;33m)\u001b[0m\u001b[1;33m\u001b[0m\u001b[1;33m\u001b[0m\u001b[0m\n\u001b[0m\u001b[0;32m      2\u001b[0m \u001b[0mcv2\u001b[0m\u001b[1;33m.\u001b[0m\u001b[0mimshow\u001b[0m\u001b[1;33m(\u001b[0m\u001b[1;34m\"Image\"\u001b[0m\u001b[1;33m,\u001b[0m \u001b[0mtest_image\u001b[0m\u001b[1;33m)\u001b[0m\u001b[1;33m\u001b[0m\u001b[1;33m\u001b[0m\u001b[0m\n\u001b[0;32m      3\u001b[0m \u001b[0mcv2\u001b[0m\u001b[1;33m.\u001b[0m\u001b[0mwaitKey\u001b[0m\u001b[1;33m(\u001b[0m\u001b[1;36m0\u001b[0m\u001b[1;33m)\u001b[0m\u001b[1;33m\u001b[0m\u001b[1;33m\u001b[0m\u001b[0m\n\u001b[0;32m      4\u001b[0m \u001b[0mcv2\u001b[0m\u001b[1;33m.\u001b[0m\u001b[0mdestroyAllWindows\u001b[0m\u001b[1;33m(\u001b[0m\u001b[1;33m)\u001b[0m\u001b[1;33m\u001b[0m\u001b[1;33m\u001b[0m\u001b[0m\n",
      "\u001b[1;31mNameError\u001b[0m: name 'cv2' is not defined"
     ]
    }
   ],
   "source": [
    "test_image = cv2.imread(r'C:\\Users\\User\\Desktop\\data\\hap.jpg')\n",
    "cv2.imshow(\"Image\", test_image)\n",
    "cv2.waitKey(0)\n",
    "cv2.destroyAllWindows()"
   ]
  },
  {
   "cell_type": "code",
   "execution_count": 20,
   "metadata": {},
   "outputs": [],
   "source": [
    "gray_image = cv2.cvtColor(test_image, cv2.COLOR_BGR2GRAY)\n",
    "cv2.imshow(\"Image\", gray_image)\n",
    "cv2.waitKey(0)\n",
    "cv2.destroyAllWindows()"
   ]
  },
  {
   "cell_type": "code",
   "execution_count": 23,
   "metadata": {},
   "outputs": [],
   "source": [
    "face_cascade= cv2.CascadeClassifier(r'C:\\Users\\User\\Desktop\\data\\haarcascade_frontalface_default.xml')\n",
    "from keras.preprocessing.image import img_to_array\n",
    "cv2.imshow(\"Image\", test_image)\n",
    "cv2.waitKey(0)\n",
    "cv2.destroyAllWindows()"
   ]
  },
  {
   "cell_type": "code",
   "execution_count": 1,
   "metadata": {},
   "outputs": [
    {
     "ename": "NameError",
     "evalue": "name 'face_cascade' is not defined",
     "output_type": "error",
     "traceback": [
      "\u001b[1;31m---------------------------------------------------------------------------\u001b[0m",
      "\u001b[1;31mNameError\u001b[0m                                 Traceback (most recent call last)",
      "\u001b[1;32m<ipython-input-1-6f8f45c7278e>\u001b[0m in \u001b[0;36m<module>\u001b[1;34m\u001b[0m\n\u001b[1;32m----> 1\u001b[1;33m \u001b[0mfaces\u001b[0m \u001b[1;33m=\u001b[0m \u001b[0mface_cascade\u001b[0m\u001b[1;33m.\u001b[0m\u001b[0mdetectMultiScale\u001b[0m\u001b[1;33m(\u001b[0m\u001b[0mgray_image\u001b[0m\u001b[1;33m,\u001b[0m \u001b[1;36m1.1\u001b[0m\u001b[1;33m,\u001b[0m \u001b[1;36m4\u001b[0m\u001b[1;33m)\u001b[0m\u001b[1;33m\u001b[0m\u001b[1;33m\u001b[0m\u001b[0m\n\u001b[0m\u001b[0;32m      2\u001b[0m \u001b[1;32mfor\u001b[0m \u001b[1;33m(\u001b[0m\u001b[0mx\u001b[0m\u001b[1;33m,\u001b[0m \u001b[0my\u001b[0m\u001b[1;33m,\u001b[0m \u001b[0mw\u001b[0m\u001b[1;33m,\u001b[0m \u001b[0mh\u001b[0m\u001b[1;33m)\u001b[0m \u001b[1;32min\u001b[0m \u001b[0mfaces\u001b[0m\u001b[1;33m:\u001b[0m\u001b[1;33m\u001b[0m\u001b[1;33m\u001b[0m\u001b[0m\n\u001b[0;32m      3\u001b[0m     \u001b[0mcv2\u001b[0m\u001b[1;33m.\u001b[0m\u001b[0mrectangle\u001b[0m\u001b[1;33m(\u001b[0m\u001b[0mtest_image\u001b[0m\u001b[1;33m,\u001b[0m\u001b[1;33m(\u001b[0m\u001b[0mx\u001b[0m\u001b[1;33m,\u001b[0m\u001b[0my\u001b[0m\u001b[1;33m)\u001b[0m\u001b[1;33m,\u001b[0m\u001b[1;33m(\u001b[0m\u001b[0mx\u001b[0m\u001b[1;33m+\u001b[0m\u001b[0mw\u001b[0m\u001b[1;33m,\u001b[0m\u001b[0my\u001b[0m\u001b[1;33m+\u001b[0m\u001b[0mh\u001b[0m\u001b[1;33m)\u001b[0m\u001b[1;33m,\u001b[0m \u001b[1;33m(\u001b[0m\u001b[1;36m255\u001b[0m\u001b[1;33m,\u001b[0m\u001b[1;36m0\u001b[0m\u001b[1;33m,\u001b[0m\u001b[1;36m0\u001b[0m\u001b[1;33m)\u001b[0m\u001b[1;33m)\u001b[0m\u001b[1;33m\u001b[0m\u001b[1;33m\u001b[0m\u001b[0m\n\u001b[0;32m      4\u001b[0m     \u001b[0mroi_gray\u001b[0m\u001b[1;33m=\u001b[0m\u001b[0mgray_image\u001b[0m\u001b[1;33m[\u001b[0m\u001b[0my\u001b[0m\u001b[1;33m:\u001b[0m\u001b[0my\u001b[0m\u001b[1;33m+\u001b[0m\u001b[0mw\u001b[0m\u001b[1;33m,\u001b[0m\u001b[0mx\u001b[0m\u001b[1;33m:\u001b[0m\u001b[0mx\u001b[0m\u001b[1;33m+\u001b[0m\u001b[0mh\u001b[0m\u001b[1;33m]\u001b[0m\u001b[1;33m\u001b[0m\u001b[1;33m\u001b[0m\u001b[0m\n\u001b[0;32m      5\u001b[0m     \u001b[0mroi_gray\u001b[0m\u001b[1;33m=\u001b[0m\u001b[0mcv2\u001b[0m\u001b[1;33m.\u001b[0m\u001b[0mresize\u001b[0m\u001b[1;33m(\u001b[0m\u001b[0mroi_gray\u001b[0m\u001b[1;33m,\u001b[0m\u001b[1;33m(\u001b[0m\u001b[1;36m48\u001b[0m\u001b[1;33m,\u001b[0m\u001b[1;36m48\u001b[0m\u001b[1;33m)\u001b[0m\u001b[1;33m)\u001b[0m\u001b[1;33m\u001b[0m\u001b[1;33m\u001b[0m\u001b[0m\n",
      "\u001b[1;31mNameError\u001b[0m: name 'face_cascade' is not defined"
     ]
    }
   ],
   "source": [
    "faces = face_cascade.detectMultiScale(gray_image, 1.1, 4)\n",
    "for (x, y, w, h) in faces:\n",
    "    cv2.rectangle(test_image,(x,y),(x+w,y+h), (255,0,0))\n",
    "    roi_gray=gray_image[y:y+w,x:x+h]\n",
    "    roi_gray=cv2.resize(roi_gray,(48,48))\n",
    "    image_pixels =img_to_array(roi_gray)\n",
    "    image_pixels = np.expand_dims(image_pixels, axis = 0)\n",
    "    image_pixels /= 255\n",
    "    predictions = model.predict(image_pixels)\n",
    "    max_index = np.argmax(predictions[0])\n",
    "    emotion_detection = ('angry', 'disgust', 'fear', 'happy', 'sad', 'surprise', 'neutral')\n",
    "    emotion_prediction = emotion_detection[max_index]\n",
    "    print(emotion_prediction)\n",
    "    font = cv2.FONT_HERSHEY_SIMPLEX\n",
    "    org = (50, 50)\n",
    "    fontScale = 1\n",
    "    color = (255, 0, 0)\n",
    "    thickness = 2\n",
    "    image = cv2.putText(test_image, emotion_prediction, org, font,\n",
    "                       fontScale, color, thickness, cv2.LINE_AA)\n",
    "    cv2.imshow(\"Image\", image)\n",
    "    cv2.waitKey(0)\n",
    "    cv2.destroyAllWindows()"
   ]
  },
  {
   "cell_type": "code",
   "execution_count": null,
   "metadata": {},
   "outputs": [],
   "source": []
  }
 ],
 "metadata": {
  "kernelspec": {
   "display_name": "Python 3",
   "language": "python",
   "name": "python3"
  },
  "language_info": {
   "codemirror_mode": {
    "name": "ipython",
    "version": 3
   },
   "file_extension": ".py",
   "mimetype": "text/x-python",
   "name": "python",
   "nbconvert_exporter": "python",
   "pygments_lexer": "ipython3",
   "version": "3.7.4"
  }
 },
 "nbformat": 4,
 "nbformat_minor": 2
}
